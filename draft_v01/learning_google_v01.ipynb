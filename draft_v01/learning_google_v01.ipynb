{
 "cells": [
  {
   "cell_type": "code",
   "execution_count": 13,
   "metadata": {},
   "outputs": [],
   "source": [
    "# **********************************************\n",
    "#    Jupyter Interactive Mode Settings\n",
    "#\n",
    "#    These control what is printed in the out: cell\n",
    "# **********************************************\n",
    "\n",
    "from IPython.core.interactiveshell import InteractiveShell\n",
    "# InteractiveShell.ast_node_interactivity I can only get last_expr_or_assign to work\n",
    "InteractiveShell.ast_node_interactivity = \"last_expr_or_assign\""
   ]
  },
  {
   "cell_type": "code",
   "execution_count": 4,
   "metadata": {},
   "outputs": [],
   "source": [
    "%config Completer.use_jedi = False"
   ]
  },
  {
   "cell_type": "code",
   "execution_count": 5,
   "metadata": {
    "pycharm": {
     "name": "#%%\n"
    }
   },
   "outputs": [],
   "source": [
    "import datetime"
   ]
  },
  {
   "cell_type": "code",
   "execution_count": 6,
   "metadata": {},
   "outputs": [],
   "source": [
    "datefmt='%m/%d/%Y %I:%M:%S %p'"
   ]
  },
  {
   "cell_type": "code",
   "execution_count": 7,
   "metadata": {},
   "outputs": [
    {
     "data": {
      "text/plain": [
       "datetime.datetime(2021, 2, 17, 21, 28, 21, 961207)"
      ]
     },
     "execution_count": 7,
     "metadata": {},
     "output_type": "execute_result"
    }
   ],
   "source": [
    "datetime.datetime.now()"
   ]
  },
  {
   "cell_type": "code",
   "execution_count": 8,
   "metadata": {},
   "outputs": [],
   "source": [
    "dt = datetime.datetime.now()"
   ]
  },
  {
   "cell_type": "code",
   "execution_count": 9,
   "metadata": {},
   "outputs": [
    {
     "data": {
      "text/plain": [
       "datetime.datetime(2021, 2, 17, 21, 29, 23, 760467)"
      ]
     },
     "execution_count": 9,
     "metadata": {},
     "output_type": "execute_result"
    }
   ],
   "source": [
    "dt"
   ]
  },
  {
   "cell_type": "code",
   "execution_count": 10,
   "metadata": {},
   "outputs": [
    {
     "name": "stdout",
     "output_type": "stream",
     "text": [
      "2021-02-17 21:29:23.760467\n"
     ]
    }
   ],
   "source": [
    "print(dt)"
   ]
  },
  {
   "cell_type": "code",
   "execution_count": 11,
   "metadata": {},
   "outputs": [
    {
     "name": "stdout",
     "output_type": "stream",
     "text": [
      "02/17/2021 09:29:23 PM\n"
     ]
    }
   ],
   "source": [
    "print(dt.strftime(datefmt))"
   ]
  },
  {
   "cell_type": "code",
   "execution_count": 14,
   "metadata": {},
   "outputs": [
    {
     "data": {
      "text/plain": [
       "'2021-02-17 21:33:51.832879'"
      ]
     },
     "execution_count": 14,
     "metadata": {},
     "output_type": "execute_result"
    }
   ],
   "source": [
    "txt = str(datetime.datetime.now())"
   ]
  },
  {
   "cell_type": "code",
   "execution_count": 15,
   "metadata": {},
   "outputs": [
    {
     "data": {
      "text/plain": [
       "'02/17/2021 09:34:22 PM'"
      ]
     },
     "execution_count": 15,
     "metadata": {},
     "output_type": "execute_result"
    }
   ],
   "source": [
    "txt = str(datetime.datetime.now().strftime(datefmt))"
   ]
  },
  {
   "cell_type": "code",
   "execution_count": 24,
   "metadata": {},
   "outputs": [],
   "source": [
    "from datetime import datetime, timezone"
   ]
  },
  {
   "cell_type": "code",
   "execution_count": 25,
   "metadata": {},
   "outputs": [
    {
     "data": {
      "text/plain": [
       "'2021/02/18 09:29:16 AM'"
      ]
     },
     "execution_count": 25,
     "metadata": {},
     "output_type": "execute_result"
    }
   ],
   "source": [
    "datefmt = '%Y/%m/%d %I:%M:%S %p'\n",
    "log_time1 = str(datetime.now().strftime(datefmt))"
   ]
  },
  {
   "cell_type": "code",
   "execution_count": 27,
   "metadata": {},
   "outputs": [
    {
     "data": {
      "text/plain": [
       "'2021/02/18 09:29:41 AM'"
      ]
     },
     "execution_count": 27,
     "metadata": {},
     "output_type": "execute_result"
    }
   ],
   "source": [
    "my_timezone='US/Pacific'\n",
    "log_time1 = str(datetime.now().strftime(datefmt))"
   ]
  },
  {
   "cell_type": "code",
   "execution_count": 28,
   "metadata": {},
   "outputs": [
    {
     "name": "stdout",
     "output_type": "stream",
     "text": [
      "<class 'datetime.timezone'>\n"
     ]
    }
   ],
   "source": [
    "print(timezone)"
   ]
  },
  {
   "cell_type": "code",
   "execution_count": 29,
   "metadata": {
    "scrolled": true
   },
   "outputs": [
    {
     "data": {
      "text/plain": [
       "['__class__',\n",
       " '__delattr__',\n",
       " '__dir__',\n",
       " '__doc__',\n",
       " '__eq__',\n",
       " '__format__',\n",
       " '__ge__',\n",
       " '__getattribute__',\n",
       " '__getinitargs__',\n",
       " '__gt__',\n",
       " '__hash__',\n",
       " '__init__',\n",
       " '__init_subclass__',\n",
       " '__le__',\n",
       " '__lt__',\n",
       " '__ne__',\n",
       " '__new__',\n",
       " '__reduce__',\n",
       " '__reduce_ex__',\n",
       " '__repr__',\n",
       " '__setattr__',\n",
       " '__sizeof__',\n",
       " '__str__',\n",
       " '__subclasshook__',\n",
       " 'dst',\n",
       " 'fromutc',\n",
       " 'max',\n",
       " 'min',\n",
       " 'tzname',\n",
       " 'utc',\n",
       " 'utcoffset']"
      ]
     },
     "execution_count": 29,
     "metadata": {},
     "output_type": "execute_result"
    }
   ],
   "source": [
    "dir(timezone)"
   ]
  },
  {
   "cell_type": "code",
   "execution_count": 30,
   "metadata": {},
   "outputs": [
    {
     "name": "stdout",
     "output_type": "stream",
     "text": [
      "Help on class timezone in module datetime:\n",
      "\n",
      "class timezone(tzinfo)\n",
      " |  Fixed offset from UTC implementation of tzinfo.\n",
      " |  \n",
      " |  Method resolution order:\n",
      " |      timezone\n",
      " |      tzinfo\n",
      " |      builtins.object\n",
      " |  \n",
      " |  Methods defined here:\n",
      " |  \n",
      " |  __eq__(self, value, /)\n",
      " |      Return self==value.\n",
      " |  \n",
      " |  __ge__(self, value, /)\n",
      " |      Return self>=value.\n",
      " |  \n",
      " |  __getinitargs__(...)\n",
      " |      pickle support\n",
      " |  \n",
      " |  __gt__(self, value, /)\n",
      " |      Return self>value.\n",
      " |  \n",
      " |  __hash__(self, /)\n",
      " |      Return hash(self).\n",
      " |  \n",
      " |  __le__(self, value, /)\n",
      " |      Return self<=value.\n",
      " |  \n",
      " |  __lt__(self, value, /)\n",
      " |      Return self<value.\n",
      " |  \n",
      " |  __ne__(self, value, /)\n",
      " |      Return self!=value.\n",
      " |  \n",
      " |  __repr__(self, /)\n",
      " |      Return repr(self).\n",
      " |  \n",
      " |  __str__(self, /)\n",
      " |      Return str(self).\n",
      " |  \n",
      " |  dst(...)\n",
      " |      Return None.\n",
      " |  \n",
      " |  fromutc(...)\n",
      " |      datetime in UTC -> datetime in local time.\n",
      " |  \n",
      " |  tzname(...)\n",
      " |      If name is specified when timezone is created, returns the name.  Otherwise returns offset as 'UTC(+|-)HH:MM'.\n",
      " |  \n",
      " |  utcoffset(...)\n",
      " |      Return fixed offset.\n",
      " |  \n",
      " |  ----------------------------------------------------------------------\n",
      " |  Static methods defined here:\n",
      " |  \n",
      " |  __new__(*args, **kwargs) from builtins.type\n",
      " |      Create and return a new object.  See help(type) for accurate signature.\n",
      " |  \n",
      " |  ----------------------------------------------------------------------\n",
      " |  Data and other attributes defined here:\n",
      " |  \n",
      " |  max = datetime.timezone(datetime.timedelta(seconds=86340))\n",
      " |  \n",
      " |  min = datetime.timezone(datetime.timedelta(days=-1, seconds=60))\n",
      " |  \n",
      " |  utc = datetime.timezone.utc\n",
      " |  \n",
      " |  ----------------------------------------------------------------------\n",
      " |  Methods inherited from tzinfo:\n",
      " |  \n",
      " |  __getattribute__(self, name, /)\n",
      " |      Return getattr(self, name).\n",
      " |  \n",
      " |  __reduce__(...)\n",
      " |      -> (cls, state)\n",
      "\n"
     ]
    }
   ],
   "source": [
    "help(timezone)"
   ]
  },
  {
   "cell_type": "code",
   "execution_count": 31,
   "metadata": {},
   "outputs": [
    {
     "data": {
      "text/plain": [
       "datetime.datetime(2021, 2, 18, 9, 32, 13, 916100)"
      ]
     },
     "execution_count": 31,
     "metadata": {},
     "output_type": "execute_result"
    }
   ],
   "source": [
    "datetime.now().astimezone"
   ]
  },
  {
   "cell_type": "code",
   "execution_count": 32,
   "metadata": {},
   "outputs": [],
   "source": [
    "import pytz"
   ]
  },
  {
   "cell_type": "code",
   "execution_count": 38,
   "metadata": {},
   "outputs": [
    {
     "data": {
      "text/plain": [
       "<DstTzInfo 'US/Central' LMT-1 day, 18:09:00 STD>"
      ]
     },
     "execution_count": 38,
     "metadata": {},
     "output_type": "execute_result"
    }
   ],
   "source": [
    "pacific = pytz.timezone('US/Pacific')\n",
    "central = pytz.timezone(\"US/Central\")"
   ]
  },
  {
   "cell_type": "code",
   "execution_count": 35,
   "metadata": {},
   "outputs": [
    {
     "data": {
      "text/plain": [
       "datetime.datetime(2021, 2, 18, 9, 35, 56, 164748, tzinfo=<DstTzInfo 'US/Pacific' PST-1 day, 16:00:00 STD>)"
      ]
     },
     "execution_count": 35,
     "metadata": {},
     "output_type": "execute_result"
    }
   ],
   "source": [
    "d = datetime.now(pacific)"
   ]
  },
  {
   "cell_type": "code",
   "execution_count": 36,
   "metadata": {},
   "outputs": [
    {
     "data": {
      "text/plain": [
       "'2021/02/18 09:36:35 AM'"
      ]
     },
     "execution_count": 36,
     "metadata": {},
     "output_type": "execute_result"
    }
   ],
   "source": [
    "datefmt = '%Y/%m/%d %I:%M:%S %p'\n",
    "log_time1 = str(datetime.now(pacific).strftime(datefmt))"
   ]
  },
  {
   "cell_type": "code",
   "execution_count": 39,
   "metadata": {},
   "outputs": [
    {
     "data": {
      "text/plain": [
       "'2021/02/18 11:36:58 AM'"
      ]
     },
     "execution_count": 39,
     "metadata": {},
     "output_type": "execute_result"
    }
   ],
   "source": [
    "datefmt = '%Y/%m/%d %I:%M:%S %p'\n",
    "log_time1 = str(datetime.now(central).strftime(datefmt))"
   ]
  },
  {
   "cell_type": "code",
   "execution_count": 76,
   "metadata": {},
   "outputs": [],
   "source": [
    "import json\n",
    "\n",
    "dict1 = {'Python' : '.py', 'C++' : '.cpp', 'Java' : '.java'}\n",
    "\n",
    "json_data = json.dumps(dict)\n",
    "f = open(\"dict.json\",\"w\")\n",
    "f.write(json_data)\n",
    "f.close()"
   ]
  },
  {
   "cell_type": "code",
   "execution_count": 77,
   "metadata": {},
   "outputs": [
    {
     "data": {
      "text/plain": [
       "'{\"Python\": \".py\", \"C++\": \".cpp\", \"Java\": \".java\"}'"
      ]
     },
     "execution_count": 77,
     "metadata": {},
     "output_type": "execute_result"
    }
   ],
   "source": [
    "json.dumps(dict1, default=lambda x: str(x))"
   ]
  },
  {
   "cell_type": "code",
   "execution_count": 78,
   "metadata": {},
   "outputs": [],
   "source": [
    "with open('request_dict.json', 'r') as fid:\n",
    "    json_data = json.load(fid)"
   ]
  },
  {
   "cell_type": "code",
   "execution_count": 79,
   "metadata": {},
   "outputs": [
    {
     "data": {
      "text/plain": [
       "dict"
      ]
     },
     "execution_count": 79,
     "metadata": {},
     "output_type": "execute_result"
    }
   ],
   "source": [
    "type(json_data)"
   ]
  },
  {
   "cell_type": "code",
   "execution_count": 80,
   "metadata": {},
   "outputs": [
    {
     "data": {
      "text/plain": [
       "{'environ': {'QUERY_STRING': '',\n",
       "  'REQUEST_METHOD': 'GET',\n",
       "  'CONTENT_TYPE': '',\n",
       "  'CONTENT_LENGTH': '',\n",
       "  'REQUEST_URI': '/parse_request',\n",
       "  'PATH_INFO': '/parse_request',\n",
       "  'DOCUMENT_ROOT': '/usr/local/openresty/nginx/html',\n",
       "  'SERVER_PROTOCOL': 'HTTP/1.1',\n",
       "  'HTTPS': 'on',\n",
       "  'REMOTE_ADDR': '10.0.0.124',\n",
       "  'REMOTE_PORT': '50148',\n",
       "  'SERVER_PORT': '443',\n",
       "  'SERVER_NAME': 'ez066144.pythonanywhere.com',\n",
       "  'SCRIPT_NAME': '',\n",
       "  'HTTP_HOST': 'ez066144.pythonanywhere.com',\n",
       "  'HTTP_X_REAL_IP': '104.186.231.151',\n",
       "  'HTTP_X_FORWARDED_FOR': '104.186.231.151',\n",
       "  'HTTP_CONNECTION': 'close',\n",
       "  'HTTP_CACHE_CONTROL': 'max-age=0',\n",
       "  'HTTP_UPGRADE_INSECURE_REQUESTS': '1',\n",
       "  'HTTP_USER_AGENT': 'Mozilla/5.0 (Windows NT 10.0; Win64; x64) AppleWebKit/537.36 (KHTML, like Gecko) Chrome/88.0.4324.150 Safari/537.36',\n",
       "  'HTTP_ACCEPT': 'text/html,application/xhtml+xml,application/xml;q=0.9,image/avif,image/webp,image/apng,*/*;q=0.8,application/signed-exchange;v=b3;q=0.9',\n",
       "  'HTTP_SEC_FETCH_SITE': 'none',\n",
       "  'HTTP_SEC_FETCH_MODE': 'navigate',\n",
       "  'HTTP_SEC_FETCH_USER': '?1',\n",
       "  'HTTP_SEC_FETCH_DEST': 'document',\n",
       "  'HTTP_ACCEPT_ENCODING': 'gzip, deflate, br',\n",
       "  'HTTP_ACCEPT_LANGUAGE': 'en-US,en;q=0.9,es-US;q=0.8,es;q=0.7',\n",
       "  'HTTP_COOKIE': '_ga=GA1.2.2088475579.1611703863; _gid=GA1.2.1464052757.1613668476',\n",
       "  'wsgi.input': '<uwsgi._Input object at 0x7f80bb13a1b0>',\n",
       "  'wsgi.file_wrapper': '<built-in function uwsgi_sendfile>',\n",
       "  'wsgi.version': [1, 0],\n",
       "  'wsgi.errors': '<uwsgi_file__bin_user_wsgi_wrapper.ErrorLogFile object at 0x7f80b7572400>',\n",
       "  'wsgi.run_once': False,\n",
       "  'wsgi.multithread': False,\n",
       "  'wsgi.multiprocess': False,\n",
       "  'wsgi.url_scheme': 'https',\n",
       "  'uwsgi.version': \"b'2.0.17.1'\",\n",
       "  'uwsgi.node': \"b'blue-liveweb14'\",\n",
       "  'werkzeug.request': \"<Request 'https://ez066144.pythonanywhere.com/parse_request' [GET]>\"},\n",
       " 'shallow': False,\n",
       " 'url_rule': '/parse_request',\n",
       " 'view_args': {},\n",
       " 'host': 'ez066144.pythonanywhere.com',\n",
       " 'host_url': 'https://ez066144.pythonanywhere.com/',\n",
       " 'path': '/parse_request',\n",
       " 'full_path': '/parse_request?',\n",
       " 'url': 'https://ez066144.pythonanywhere.com/parse_request',\n",
       " 'base_url': 'https://ez066144.pythonanywhere.com/parse_request',\n",
       " 'url_root': 'https://ez066144.pythonanywhere.com/',\n",
       " 'args': {},\n",
       " 'headers': 'Host: ez066144.pythonanywhere.com\\r\\nX-Real-Ip: 104.186.231.151\\r\\nX-Forwarded-For: 104.186.231.151\\r\\nConnection: close\\r\\nCache-Control: max-age=0\\r\\nUpgrade-Insecure-Requests: 1\\r\\nUser-Agent: Mozilla/5.0 (Windows NT 10.0; Win64; x64) AppleWebKit/537.36 (KHTML, like Gecko) Chrome/88.0.4324.150 Safari/537.36\\r\\nAccept: text/html,application/xhtml+xml,application/xml;q=0.9,image/avif,image/webp,image/apng,*/*;q=0.8,application/signed-exchange;v=b3;q=0.9\\r\\nSec-Fetch-Site: none\\r\\nSec-Fetch-Mode: navigate\\r\\nSec-Fetch-User: ?1\\r\\nSec-Fetch-Dest: document\\r\\nAccept-Encoding: gzip, deflate, br\\r\\nAccept-Language: en-US,en;q=0.9,es-US;q=0.8,es;q=0.7\\r\\nCookie: _ga=GA1.2.2088475579.1611703863; _gid=GA1.2.1464052757.1613668476\\r\\n\\r\\n',\n",
       " 'cookies': {'_ga': 'GA1.2.2088475579.1611703863',\n",
       "  '_gid': 'GA1.2.1464052757.1613668476'},\n",
       " '_parsed_content_type': ['', {}]}"
      ]
     },
     "execution_count": 80,
     "metadata": {},
     "output_type": "execute_result"
    }
   ],
   "source": [
    "json_data"
   ]
  },
  {
   "cell_type": "code",
   "execution_count": 81,
   "metadata": {},
   "outputs": [
    {
     "data": {
      "text/plain": [
       "<pprint.PrettyPrinter at 0x1f1f39987f0>"
      ]
     },
     "execution_count": 81,
     "metadata": {},
     "output_type": "execute_result"
    }
   ],
   "source": [
    "import pprint\n",
    "pp = pprint.PrettyPrinter(indent=4)\n",
    "# usage pp.pprint(stuff)"
   ]
  },
  {
   "cell_type": "code",
   "execution_count": 83,
   "metadata": {},
   "outputs": [
    {
     "name": "stdout",
     "output_type": "stream",
     "text": [
      "{   '_parsed_content_type': ['', {}],\n",
      "    'args': {},\n",
      "    'base_url': 'https://ez066144.pythonanywhere.com/parse_request',\n",
      "    'cookies': {   '_ga': 'GA1.2.2088475579.1611703863',\n",
      "                   '_gid': 'GA1.2.1464052757.1613668476'},\n",
      "    'environ': {   'CONTENT_LENGTH': '',\n",
      "                   'CONTENT_TYPE': '',\n",
      "                   'DOCUMENT_ROOT': '/usr/local/openresty/nginx/html',\n",
      "                   'HTTPS': 'on',\n",
      "                   'HTTP_ACCEPT': 'text/html,application/xhtml+xml,application/xml;q=0.9,image/avif,image/webp,image/apng,*/*;q=0.8,application/signed-exchange;v=b3;q=0.9',\n",
      "                   'HTTP_ACCEPT_ENCODING': 'gzip, deflate, br',\n",
      "                   'HTTP_ACCEPT_LANGUAGE': 'en-US,en;q=0.9,es-US;q=0.8,es;q=0.7',\n",
      "                   'HTTP_CACHE_CONTROL': 'max-age=0',\n",
      "                   'HTTP_CONNECTION': 'close',\n",
      "                   'HTTP_COOKIE': '_ga=GA1.2.2088475579.1611703863; '\n",
      "                                  '_gid=GA1.2.1464052757.1613668476',\n",
      "                   'HTTP_HOST': 'ez066144.pythonanywhere.com',\n",
      "                   'HTTP_SEC_FETCH_DEST': 'document',\n",
      "                   'HTTP_SEC_FETCH_MODE': 'navigate',\n",
      "                   'HTTP_SEC_FETCH_SITE': 'none',\n",
      "                   'HTTP_SEC_FETCH_USER': '?1',\n",
      "                   'HTTP_UPGRADE_INSECURE_REQUESTS': '1',\n",
      "                   'HTTP_USER_AGENT': 'Mozilla/5.0 (Windows NT 10.0; Win64; '\n",
      "                                      'x64) AppleWebKit/537.36 (KHTML, like '\n",
      "                                      'Gecko) Chrome/88.0.4324.150 '\n",
      "                                      'Safari/537.36',\n",
      "                   'HTTP_X_FORWARDED_FOR': '104.186.231.151',\n",
      "                   'HTTP_X_REAL_IP': '104.186.231.151',\n",
      "                   'PATH_INFO': '/parse_request',\n",
      "                   'QUERY_STRING': '',\n",
      "                   'REMOTE_ADDR': '10.0.0.124',\n",
      "                   'REMOTE_PORT': '50148',\n",
      "                   'REQUEST_METHOD': 'GET',\n",
      "                   'REQUEST_URI': '/parse_request',\n",
      "                   'SCRIPT_NAME': '',\n",
      "                   'SERVER_NAME': 'ez066144.pythonanywhere.com',\n",
      "                   'SERVER_PORT': '443',\n",
      "                   'SERVER_PROTOCOL': 'HTTP/1.1',\n",
      "                   'uwsgi.node': \"b'blue-liveweb14'\",\n",
      "                   'uwsgi.version': \"b'2.0.17.1'\",\n",
      "                   'werkzeug.request': '<Request '\n",
      "                                       \"'https://ez066144.pythonanywhere.com/parse_request' \"\n",
      "                                       '[GET]>',\n",
      "                   'wsgi.errors': '<uwsgi_file__bin_user_wsgi_wrapper.ErrorLogFile '\n",
      "                                  'object at 0x7f80b7572400>',\n",
      "                   'wsgi.file_wrapper': '<built-in function uwsgi_sendfile>',\n",
      "                   'wsgi.input': '<uwsgi._Input object at 0x7f80bb13a1b0>',\n",
      "                   'wsgi.multiprocess': False,\n",
      "                   'wsgi.multithread': False,\n",
      "                   'wsgi.run_once': False,\n",
      "                   'wsgi.url_scheme': 'https',\n",
      "                   'wsgi.version': [1, 0]},\n",
      "    'full_path': '/parse_request?',\n",
      "    'headers': 'Host: ez066144.pythonanywhere.com\\r\\n'\n",
      "               'X-Real-Ip: 104.186.231.151\\r\\n'\n",
      "               'X-Forwarded-For: 104.186.231.151\\r\\n'\n",
      "               'Connection: close\\r\\n'\n",
      "               'Cache-Control: max-age=0\\r\\n'\n",
      "               'Upgrade-Insecure-Requests: 1\\r\\n'\n",
      "               'User-Agent: Mozilla/5.0 (Windows NT 10.0; Win64; x64) '\n",
      "               'AppleWebKit/537.36 (KHTML, like Gecko) Chrome/88.0.4324.150 '\n",
      "               'Safari/537.36\\r\\n'\n",
      "               'Accept: '\n",
      "               'text/html,application/xhtml+xml,application/xml;q=0.9,image/avif,image/webp,image/apng,*/*;q=0.8,application/signed-exchange;v=b3;q=0.9\\r\\n'\n",
      "               'Sec-Fetch-Site: none\\r\\n'\n",
      "               'Sec-Fetch-Mode: navigate\\r\\n'\n",
      "               'Sec-Fetch-User: ?1\\r\\n'\n",
      "               'Sec-Fetch-Dest: document\\r\\n'\n",
      "               'Accept-Encoding: gzip, deflate, br\\r\\n'\n",
      "               'Accept-Language: en-US,en;q=0.9,es-US;q=0.8,es;q=0.7\\r\\n'\n",
      "               'Cookie: _ga=GA1.2.2088475579.1611703863; '\n",
      "               '_gid=GA1.2.1464052757.1613668476\\r\\n'\n",
      "               '\\r\\n',\n",
      "    'host': 'ez066144.pythonanywhere.com',\n",
      "    'host_url': 'https://ez066144.pythonanywhere.com/',\n",
      "    'path': '/parse_request',\n",
      "    'shallow': False,\n",
      "    'url': 'https://ez066144.pythonanywhere.com/parse_request',\n",
      "    'url_root': 'https://ez066144.pythonanywhere.com/',\n",
      "    'url_rule': '/parse_request',\n",
      "    'view_args': {}}\n"
     ]
    }
   ],
   "source": [
    "pp.pprint(json_data)\n"
   ]
  },
  {
   "cell_type": "code",
   "execution_count": 85,
   "metadata": {},
   "outputs": [
    {
     "data": {
      "text/plain": [
       "<_io.StringIO at 0x1f1f3974b80>"
      ]
     },
     "execution_count": 85,
     "metadata": {},
     "output_type": "execute_result"
    }
   ],
   "source": [
    "from io import StringIO\n",
    "str_io = StringIO()"
   ]
  },
  {
   "cell_type": "code",
   "execution_count": 86,
   "metadata": {},
   "outputs": [],
   "source": [
    "pprint.pprint(json_data, stream=str_io, indent=4, width=200, compact=False, sort_dicts=True)"
   ]
  },
  {
   "cell_type": "code",
   "execution_count": 87,
   "metadata": {},
   "outputs": [
    {
     "name": "stdout",
     "output_type": "stream",
     "text": [
      "{   '_parsed_content_type': ['', {}],\n",
      "    'args': {},\n",
      "    'base_url': 'https://ez066144.pythonanywhere.com/parse_request',\n",
      "    'cookies': {'_ga': 'GA1.2.2088475579.1611703863', '_gid': 'GA1.2.1464052757.1613668476'},\n",
      "    'environ': {   'CONTENT_LENGTH': '',\n",
      "                   'CONTENT_TYPE': '',\n",
      "                   'DOCUMENT_ROOT': '/usr/local/openresty/nginx/html',\n",
      "                   'HTTPS': 'on',\n",
      "                   'HTTP_ACCEPT': 'text/html,application/xhtml+xml,application/xml;q=0.9,image/avif,image/webp,image/apng,*/*;q=0.8,application/signed-exchange;v=b3;q=0.9',\n",
      "                   'HTTP_ACCEPT_ENCODING': 'gzip, deflate, br',\n",
      "                   'HTTP_ACCEPT_LANGUAGE': 'en-US,en;q=0.9,es-US;q=0.8,es;q=0.7',\n",
      "                   'HTTP_CACHE_CONTROL': 'max-age=0',\n",
      "                   'HTTP_CONNECTION': 'close',\n",
      "                   'HTTP_COOKIE': '_ga=GA1.2.2088475579.1611703863; _gid=GA1.2.1464052757.1613668476',\n",
      "                   'HTTP_HOST': 'ez066144.pythonanywhere.com',\n",
      "                   'HTTP_SEC_FETCH_DEST': 'document',\n",
      "                   'HTTP_SEC_FETCH_MODE': 'navigate',\n",
      "                   'HTTP_SEC_FETCH_SITE': 'none',\n",
      "                   'HTTP_SEC_FETCH_USER': '?1',\n",
      "                   'HTTP_UPGRADE_INSECURE_REQUESTS': '1',\n",
      "                   'HTTP_USER_AGENT': 'Mozilla/5.0 (Windows NT 10.0; Win64; x64) AppleWebKit/537.36 (KHTML, like Gecko) Chrome/88.0.4324.150 Safari/537.36',\n",
      "                   'HTTP_X_FORWARDED_FOR': '104.186.231.151',\n",
      "                   'HTTP_X_REAL_IP': '104.186.231.151',\n",
      "                   'PATH_INFO': '/parse_request',\n",
      "                   'QUERY_STRING': '',\n",
      "                   'REMOTE_ADDR': '10.0.0.124',\n",
      "                   'REMOTE_PORT': '50148',\n",
      "                   'REQUEST_METHOD': 'GET',\n",
      "                   'REQUEST_URI': '/parse_request',\n",
      "                   'SCRIPT_NAME': '',\n",
      "                   'SERVER_NAME': 'ez066144.pythonanywhere.com',\n",
      "                   'SERVER_PORT': '443',\n",
      "                   'SERVER_PROTOCOL': 'HTTP/1.1',\n",
      "                   'uwsgi.node': \"b'blue-liveweb14'\",\n",
      "                   'uwsgi.version': \"b'2.0.17.1'\",\n",
      "                   'werkzeug.request': \"<Request 'https://ez066144.pythonanywhere.com/parse_request' [GET]>\",\n",
      "                   'wsgi.errors': '<uwsgi_file__bin_user_wsgi_wrapper.ErrorLogFile object at 0x7f80b7572400>',\n",
      "                   'wsgi.file_wrapper': '<built-in function uwsgi_sendfile>',\n",
      "                   'wsgi.input': '<uwsgi._Input object at 0x7f80bb13a1b0>',\n",
      "                   'wsgi.multiprocess': False,\n",
      "                   'wsgi.multithread': False,\n",
      "                   'wsgi.run_once': False,\n",
      "                   'wsgi.url_scheme': 'https',\n",
      "                   'wsgi.version': [1, 0]},\n",
      "    'full_path': '/parse_request?',\n",
      "    'headers': 'Host: ez066144.pythonanywhere.com\\r\\n'\n",
      "               'X-Real-Ip: 104.186.231.151\\r\\n'\n",
      "               'X-Forwarded-For: 104.186.231.151\\r\\n'\n",
      "               'Connection: close\\r\\n'\n",
      "               'Cache-Control: max-age=0\\r\\n'\n",
      "               'Upgrade-Insecure-Requests: 1\\r\\n'\n",
      "               'User-Agent: Mozilla/5.0 (Windows NT 10.0; Win64; x64) AppleWebKit/537.36 (KHTML, like Gecko) Chrome/88.0.4324.150 Safari/537.36\\r\\n'\n",
      "               'Accept: text/html,application/xhtml+xml,application/xml;q=0.9,image/avif,image/webp,image/apng,*/*;q=0.8,application/signed-exchange;v=b3;q=0.9\\r\\n'\n",
      "               'Sec-Fetch-Site: none\\r\\n'\n",
      "               'Sec-Fetch-Mode: navigate\\r\\n'\n",
      "               'Sec-Fetch-User: ?1\\r\\n'\n",
      "               'Sec-Fetch-Dest: document\\r\\n'\n",
      "               'Accept-Encoding: gzip, deflate, br\\r\\n'\n",
      "               'Accept-Language: en-US,en;q=0.9,es-US;q=0.8,es;q=0.7\\r\\n'\n",
      "               'Cookie: _ga=GA1.2.2088475579.1611703863; _gid=GA1.2.1464052757.1613668476\\r\\n'\n",
      "               '\\r\\n',\n",
      "    'host': 'ez066144.pythonanywhere.com',\n",
      "    'host_url': 'https://ez066144.pythonanywhere.com/',\n",
      "    'path': '/parse_request',\n",
      "    'shallow': False,\n",
      "    'url': 'https://ez066144.pythonanywhere.com/parse_request',\n",
      "    'url_root': 'https://ez066144.pythonanywhere.com/',\n",
      "    'url_rule': '/parse_request',\n",
      "    'view_args': {}}\n",
      "\n"
     ]
    }
   ],
   "source": [
    "print(str_io.getvalue()) # displays the string "
   ]
  },
  {
   "cell_type": "code",
   "execution_count": 88,
   "metadata": {},
   "outputs": [
    {
     "data": {
      "text/plain": [
       "'\\'{   \\\\\\'_parsed_content_type\\\\\\': [\\\\\\'\\\\\\', {}],\\\\n    \\\\\\'args\\\\\\': {},\\\\n    \\\\\\'base_url\\\\\\': \\\\\\'https://ez066144.pythonanywhere.com/parse_request\\\\\\',\\\\n    \\\\\\'cookies\\\\\\': {\\\\\\'_ga\\\\\\': \\\\\\'GA1.2.2088475579.1611703863\\\\\\', \\\\\\'_gid\\\\\\': \\\\\\'GA1.2.1464052757.1613668476\\\\\\'},\\\\n    \\\\\\'environ\\\\\\': {   \\\\\\'CONTENT_LENGTH\\\\\\': \\\\\\'\\\\\\',\\\\n                   \\\\\\'CONTENT_TYPE\\\\\\': \\\\\\'\\\\\\',\\\\n                   \\\\\\'DOCUMENT_ROOT\\\\\\': \\\\\\'/usr/local/openresty/nginx/html\\\\\\',\\\\n                   \\\\\\'HTTPS\\\\\\': \\\\\\'on\\\\\\',\\\\n                   \\\\\\'HTTP_ACCEPT\\\\\\': \\\\\\'text/html,application/xhtml+xml,application/xml;q=0.9,image/avif,image/webp,image/apng,*/*;q=0.8,application/signed-exchange;v=b3;q=0.9\\\\\\',\\\\n                   \\\\\\'HTTP_ACCEPT_ENCODING\\\\\\': \\\\\\'gzip, deflate, br\\\\\\',\\\\n                   \\\\\\'HTTP_ACCEPT_LANGUAGE\\\\\\': \\\\\\'en-US,en;q=0.9,es-US;q=0.8,es;q=0.7\\\\\\',\\\\n                   \\\\\\'HTTP_CACHE_CONTROL\\\\\\': \\\\\\'max-age=0\\\\\\',\\\\n                   \\\\\\'HTTP_CONNECTION\\\\\\': \\\\\\'close\\\\\\',\\\\n                   \\\\\\'HTTP_COOKIE\\\\\\': \\\\\\'_ga=GA1.2.2088475579.1611703863; _gid=GA1.2.1464052757.1613668476\\\\\\',\\\\n                   \\\\\\'HTTP_HOST\\\\\\': \\\\\\'ez066144.pythonanywhere.com\\\\\\',\\\\n                   \\\\\\'HTTP_SEC_FETCH_DEST\\\\\\': \\\\\\'document\\\\\\',\\\\n                   \\\\\\'HTTP_SEC_FETCH_MODE\\\\\\': \\\\\\'navigate\\\\\\',\\\\n                   \\\\\\'HTTP_SEC_FETCH_SITE\\\\\\': \\\\\\'none\\\\\\',\\\\n                   \\\\\\'HTTP_SEC_FETCH_USER\\\\\\': \\\\\\'?1\\\\\\',\\\\n                   \\\\\\'HTTP_UPGRADE_INSECURE_REQUESTS\\\\\\': \\\\\\'1\\\\\\',\\\\n                   \\\\\\'HTTP_USER_AGENT\\\\\\': \\\\\\'Mozilla/5.0 (Windows NT 10.0; Win64; x64) AppleWebKit/537.36 (KHTML, like Gecko) Chrome/88.0.4324.150 Safari/537.36\\\\\\',\\\\n                   \\\\\\'HTTP_X_FORWARDED_FOR\\\\\\': \\\\\\'104.186.231.151\\\\\\',\\\\n                   \\\\\\'HTTP_X_REAL_IP\\\\\\': \\\\\\'104.186.231.151\\\\\\',\\\\n                   \\\\\\'PATH_INFO\\\\\\': \\\\\\'/parse_request\\\\\\',\\\\n                   \\\\\\'QUERY_STRING\\\\\\': \\\\\\'\\\\\\',\\\\n                   \\\\\\'REMOTE_ADDR\\\\\\': \\\\\\'10.0.0.124\\\\\\',\\\\n                   \\\\\\'REMOTE_PORT\\\\\\': \\\\\\'50148\\\\\\',\\\\n                   \\\\\\'REQUEST_METHOD\\\\\\': \\\\\\'GET\\\\\\',\\\\n                   \\\\\\'REQUEST_URI\\\\\\': \\\\\\'/parse_request\\\\\\',\\\\n                   \\\\\\'SCRIPT_NAME\\\\\\': \\\\\\'\\\\\\',\\\\n                   \\\\\\'SERVER_NAME\\\\\\': \\\\\\'ez066144.pythonanywhere.com\\\\\\',\\\\n                   \\\\\\'SERVER_PORT\\\\\\': \\\\\\'443\\\\\\',\\\\n                   \\\\\\'SERVER_PROTOCOL\\\\\\': \\\\\\'HTTP/1.1\\\\\\',\\\\n                   \\\\\\'uwsgi.node\\\\\\': \"b\\\\\\'blue-liveweb14\\\\\\'\",\\\\n                   \\\\\\'uwsgi.version\\\\\\': \"b\\\\\\'2.0.17.1\\\\\\'\",\\\\n                   \\\\\\'werkzeug.request\\\\\\': \"<Request \\\\\\'https://ez066144.pythonanywhere.com/parse_request\\\\\\' [GET]>\",\\\\n                   \\\\\\'wsgi.errors\\\\\\': \\\\\\'<uwsgi_file__bin_user_wsgi_wrapper.ErrorLogFile object at 0x7f80b7572400>\\\\\\',\\\\n                   \\\\\\'wsgi.file_wrapper\\\\\\': \\\\\\'<built-in function uwsgi_sendfile>\\\\\\',\\\\n                   \\\\\\'wsgi.input\\\\\\': \\\\\\'<uwsgi._Input object at 0x7f80bb13a1b0>\\\\\\',\\\\n                   \\\\\\'wsgi.multiprocess\\\\\\': False,\\\\n                   \\\\\\'wsgi.multithread\\\\\\': False,\\\\n                   \\\\\\'wsgi.run_once\\\\\\': False,\\\\n                   \\\\\\'wsgi.url_scheme\\\\\\': \\\\\\'https\\\\\\',\\\\n                   \\\\\\'wsgi.version\\\\\\': [1, 0]},\\\\n    \\\\\\'full_path\\\\\\': \\\\\\'/parse_request?\\\\\\',\\\\n    \\\\\\'headers\\\\\\': \\\\\\'Host: ez066144.pythonanywhere.com\\\\\\\\r\\\\\\\\n\\\\\\'\\\\n               \\\\\\'X-Real-Ip: 104.186.231.151\\\\\\\\r\\\\\\\\n\\\\\\'\\\\n               \\\\\\'X-Forwarded-For: 104.186.231.151\\\\\\\\r\\\\\\\\n\\\\\\'\\\\n               \\\\\\'Connection: close\\\\\\\\r\\\\\\\\n\\\\\\'\\\\n               \\\\\\'Cache-Control: max-age=0\\\\\\\\r\\\\\\\\n\\\\\\'\\\\n               \\\\\\'Upgrade-Insecure-Requests: 1\\\\\\\\r\\\\\\\\n\\\\\\'\\\\n               \\\\\\'User-Agent: Mozilla/5.0 (Windows NT 10.0; Win64; x64) AppleWebKit/537.36 (KHTML, like Gecko) Chrome/88.0.4324.150 Safari/537.36\\\\\\\\r\\\\\\\\n\\\\\\'\\\\n               \\\\\\'Accept: text/html,application/xhtml+xml,application/xml;q=0.9,image/avif,image/webp,image/apng,*/*;q=0.8,application/signed-exchange;v=b3;q=0.9\\\\\\\\r\\\\\\\\n\\\\\\'\\\\n               \\\\\\'Sec-Fetch-Site: none\\\\\\\\r\\\\\\\\n\\\\\\'\\\\n               \\\\\\'Sec-Fetch-Mode: navigate\\\\\\\\r\\\\\\\\n\\\\\\'\\\\n               \\\\\\'Sec-Fetch-User: ?1\\\\\\\\r\\\\\\\\n\\\\\\'\\\\n               \\\\\\'Sec-Fetch-Dest: document\\\\\\\\r\\\\\\\\n\\\\\\'\\\\n               \\\\\\'Accept-Encoding: gzip, deflate, br\\\\\\\\r\\\\\\\\n\\\\\\'\\\\n               \\\\\\'Accept-Language: en-US,en;q=0.9,es-US;q=0.8,es;q=0.7\\\\\\\\r\\\\\\\\n\\\\\\'\\\\n               \\\\\\'Cookie: _ga=GA1.2.2088475579.1611703863; _gid=GA1.2.1464052757.1613668476\\\\\\\\r\\\\\\\\n\\\\\\'\\\\n               \\\\\\'\\\\\\\\r\\\\\\\\n\\\\\\',\\\\n    \\\\\\'host\\\\\\': \\\\\\'ez066144.pythonanywhere.com\\\\\\',\\\\n    \\\\\\'host_url\\\\\\': \\\\\\'https://ez066144.pythonanywhere.com/\\\\\\',\\\\n    \\\\\\'path\\\\\\': \\\\\\'/parse_request\\\\\\',\\\\n    \\\\\\'shallow\\\\\\': False,\\\\n    \\\\\\'url\\\\\\': \\\\\\'https://ez066144.pythonanywhere.com/parse_request\\\\\\',\\\\n    \\\\\\'url_root\\\\\\': \\\\\\'https://ez066144.pythonanywhere.com/\\\\\\',\\\\n    \\\\\\'url_rule\\\\\\': \\\\\\'/parse_request\\\\\\',\\\\n    \\\\\\'view_args\\\\\\': {}}\\\\n\\''"
      ]
     },
     "execution_count": 88,
     "metadata": {},
     "output_type": "execute_result"
    }
   ],
   "source": [
    "repr(str_io.getvalue())"
   ]
  },
  {
   "cell_type": "code",
   "execution_count": null,
   "metadata": {},
   "outputs": [],
   "source": []
  }
 ],
 "metadata": {
  "kernelspec": {
   "display_name": "Python 3",
   "language": "python",
   "name": "python3"
  },
  "language_info": {
   "codemirror_mode": {
    "name": "ipython",
    "version": 3
   },
   "file_extension": ".py",
   "mimetype": "text/x-python",
   "name": "python",
   "nbconvert_exporter": "python",
   "pygments_lexer": "ipython3",
   "version": "3.8.5"
  }
 },
 "nbformat": 4,
 "nbformat_minor": 1
}
