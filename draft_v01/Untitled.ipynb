{
 "cells": [
  {
   "cell_type": "code",
   "execution_count": 2,
   "metadata": {},
   "outputs": [],
   "source": [
    "\"\"\"\n",
    "Learning the Google Calendar API\n",
    "\n",
    "Calendar API\n",
    "https://developers.google.com/calendar\n",
    "\n",
    "#installed from conda v env\n",
    "conda install -c conda-forge google-api-python-client\n",
    "\n",
    "Google API Client Library for Python Docs\n",
    "https://github.com/googleapis/google-api-python-client/blob/master/docs/README.md\n",
    "\n",
    "Getting Started\n",
    "https://github.com/googleapis/google-api-python-client/blob/master/docs/start.md\n",
    "\n",
    "Creating Projects\n",
    "https://cloud.google.com/resource-manager/docs/creating-managing-projects?visit_id=637470329201593952-1623926961&rd=1\n",
    "\n",
    "\n",
    "Created 01/23/2021\n",
    "\"\"\";"
   ]
  },
  {
   "cell_type": "code",
   "execution_count": 3,
   "metadata": {},
   "outputs": [],
   "source": [
    "# **********************************************\n",
    "#    Jupyter Interactive Mode Settings\n",
    "#\n",
    "#    These control what is printed in the out: cell\n",
    "# **********************************************\n",
    "\n",
    "from IPython.core.interactiveshell import InteractiveShell\n",
    "# InteractiveShell.ast_node_interactivity I can only get last_expr_or_assign to work\n",
    "InteractiveShell.ast_node_interactivity = \"last_expr_or_assign\""
   ]
  },
  {
   "cell_type": "code",
   "execution_count": 1,
   "metadata": {},
   "outputs": [],
   "source": [
    "%config Completer.use_jedi = False"
   ]
  },
  {
   "cell_type": "code",
   "execution_count": null,
   "metadata": {},
   "outputs": [],
   "source": []
  }
 ],
 "metadata": {
  "kernelspec": {
   "display_name": "Python 3",
   "language": "python",
   "name": "python3"
  },
  "language_info": {
   "codemirror_mode": {
    "name": "ipython",
    "version": 3
   },
   "file_extension": ".py",
   "mimetype": "text/x-python",
   "name": "python",
   "nbconvert_exporter": "python",
   "pygments_lexer": "ipython3",
   "version": "3.8.5"
  }
 },
 "nbformat": 4,
 "nbformat_minor": 4
}
